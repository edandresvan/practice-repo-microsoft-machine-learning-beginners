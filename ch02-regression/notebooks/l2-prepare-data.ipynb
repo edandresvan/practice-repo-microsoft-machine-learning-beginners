{
 "cells": [
  {
   "cell_type": "code",
   "execution_count": 1,
   "metadata": {},
   "outputs": [],
   "source": [
    "from pprint import pp, pprint\n",
    "\n",
    "import pandas as pd\n",
    "import polars as pl\n",
    "import matplotlib.pyplot as plt"
   ]
  },
  {
   "attachments": {},
   "cell_type": "markdown",
   "metadata": {},
   "source": [
    "## Load the Data Set"
   ]
  },
  {
   "cell_type": "code",
   "execution_count": 2,
   "metadata": {},
   "outputs": [],
   "source": [
    "pumpkins = pl.read_csv(\"../data/US-pumpkins.csv\", infer_schema_length=2000)"
   ]
  },
  {
   "attachments": {},
   "cell_type": "markdown",
   "metadata": {},
   "source": [
    "## Exploration Strategies"
   ]
  },
  {
   "cell_type": "code",
   "execution_count": 3,
   "metadata": {},
   "outputs": [
    {
     "name": "stdout",
     "output_type": "stream",
     "text": [
      "(Height, Rows): 1757, (Width, Columns): 25\n"
     ]
    },
    {
     "data": {
      "text/html": [
       "<div><style>\n",
       ".dataframe > thead > tr > th,\n",
       ".dataframe > tbody > tr > td {\n",
       "  text-align: right;\n",
       "}\n",
       "</style>\n",
       "<small>shape: (5, 25)</small><table border=\"1\" class=\"dataframe\"><thead><tr><th>City Name</th><th>Type</th><th>Package</th><th>Variety</th><th>Sub Variety</th><th>Grade</th><th>Date</th><th>Low Price</th><th>High Price</th><th>Mostly Low</th><th>Mostly High</th><th>Origin</th><th>Origin District</th><th>Item Size</th><th>Color</th><th>Environment</th><th>Unit of Sale</th><th>Quality</th><th>Condition</th><th>Appearance</th><th>Storage</th><th>Crop</th><th>Repack</th><th>Trans Mode</th><th></th></tr><tr><td>str</td><td>str</td><td>str</td><td>str</td><td>str</td><td>str</td><td>str</td><td>f64</td><td>f64</td><td>f64</td><td>f64</td><td>str</td><td>str</td><td>str</td><td>str</td><td>str</td><td>str</td><td>str</td><td>str</td><td>str</td><td>str</td><td>str</td><td>str</td><td>str</td><td>str</td></tr></thead><tbody><tr><td>&quot;BALTIMORE&quot;</td><td>null</td><td>&quot;24 inch bins&quot;</td><td>null</td><td>null</td><td>null</td><td>&quot;4/29/17&quot;</td><td>270.0</td><td>280.0</td><td>270.0</td><td>280.0</td><td>&quot;MARYLAND&quot;</td><td>null</td><td>&quot;lge&quot;</td><td>null</td><td>null</td><td>null</td><td>null</td><td>null</td><td>null</td><td>null</td><td>null</td><td>&quot;E&quot;</td><td>null</td><td>null</td></tr><tr><td>&quot;BALTIMORE&quot;</td><td>null</td><td>&quot;24 inch bins&quot;</td><td>null</td><td>null</td><td>null</td><td>&quot;5/6/17&quot;</td><td>270.0</td><td>280.0</td><td>270.0</td><td>280.0</td><td>&quot;MARYLAND&quot;</td><td>null</td><td>&quot;lge&quot;</td><td>null</td><td>null</td><td>null</td><td>null</td><td>null</td><td>null</td><td>null</td><td>null</td><td>&quot;E&quot;</td><td>null</td><td>null</td></tr><tr><td>&quot;BALTIMORE&quot;</td><td>null</td><td>&quot;24 inch bins&quot;</td><td>&quot;HOWDEN TYPE&quot;</td><td>null</td><td>null</td><td>&quot;9/24/16&quot;</td><td>160.0</td><td>160.0</td><td>160.0</td><td>160.0</td><td>&quot;DELAWARE&quot;</td><td>null</td><td>&quot;med&quot;</td><td>&quot;ORANGE&quot;</td><td>null</td><td>null</td><td>null</td><td>null</td><td>null</td><td>null</td><td>null</td><td>&quot;N&quot;</td><td>null</td><td>null</td></tr><tr><td>&quot;BALTIMORE&quot;</td><td>null</td><td>&quot;24 inch bins&quot;</td><td>&quot;HOWDEN TYPE&quot;</td><td>null</td><td>null</td><td>&quot;9/24/16&quot;</td><td>160.0</td><td>160.0</td><td>160.0</td><td>160.0</td><td>&quot;VIRGINIA&quot;</td><td>null</td><td>&quot;med&quot;</td><td>&quot;ORANGE&quot;</td><td>null</td><td>null</td><td>null</td><td>null</td><td>null</td><td>null</td><td>null</td><td>&quot;N&quot;</td><td>null</td><td>null</td></tr><tr><td>&quot;BALTIMORE&quot;</td><td>null</td><td>&quot;24 inch bins&quot;</td><td>&quot;HOWDEN TYPE&quot;</td><td>null</td><td>null</td><td>&quot;11/5/16&quot;</td><td>90.0</td><td>100.0</td><td>90.0</td><td>100.0</td><td>&quot;MARYLAND&quot;</td><td>null</td><td>&quot;lge&quot;</td><td>&quot;ORANGE&quot;</td><td>null</td><td>null</td><td>null</td><td>null</td><td>null</td><td>null</td><td>null</td><td>&quot;N&quot;</td><td>null</td><td>null</td></tr></tbody></table></div>"
      ],
      "text/plain": [
       "shape: (5, 25)\n",
       "┌───────────┬──────┬──────────────┬─────────────┬───┬──────┬────────┬────────────┬──────┐\n",
       "│ City Name ┆ Type ┆ Package      ┆ Variety     ┆ … ┆ Crop ┆ Repack ┆ Trans Mode ┆      │\n",
       "│ ---       ┆ ---  ┆ ---          ┆ ---         ┆   ┆ ---  ┆ ---    ┆ ---        ┆ ---  │\n",
       "│ str       ┆ str  ┆ str          ┆ str         ┆   ┆ str  ┆ str    ┆ str        ┆ str  │\n",
       "╞═══════════╪══════╪══════════════╪═════════════╪═══╪══════╪════════╪════════════╪══════╡\n",
       "│ BALTIMORE ┆ null ┆ 24 inch bins ┆ null        ┆ … ┆ null ┆ E      ┆ null       ┆ null │\n",
       "│ BALTIMORE ┆ null ┆ 24 inch bins ┆ null        ┆ … ┆ null ┆ E      ┆ null       ┆ null │\n",
       "│ BALTIMORE ┆ null ┆ 24 inch bins ┆ HOWDEN TYPE ┆ … ┆ null ┆ N      ┆ null       ┆ null │\n",
       "│ BALTIMORE ┆ null ┆ 24 inch bins ┆ HOWDEN TYPE ┆ … ┆ null ┆ N      ┆ null       ┆ null │\n",
       "│ BALTIMORE ┆ null ┆ 24 inch bins ┆ HOWDEN TYPE ┆ … ┆ null ┆ N      ┆ null       ┆ null │\n",
       "└───────────┴──────┴──────────────┴─────────────┴───┴──────┴────────┴────────────┴──────┘"
      ]
     },
     "execution_count": 3,
     "metadata": {},
     "output_type": "execute_result"
    }
   ],
   "source": [
    "print(f\"(Height, Rows): {pumpkins.height}, (Width, Columns): {pumpkins.width}\")\n",
    "pumpkins.head()"
   ]
  },
  {
   "attachments": {},
   "cell_type": "markdown",
   "metadata": {},
   "source": [
    "### Check Missing Data"
   ]
  },
  {
   "cell_type": "code",
   "execution_count": 4,
   "metadata": {},
   "outputs": [
    {
     "data": {
      "text/html": [
       "<div><style>\n",
       ".dataframe > thead > tr > th,\n",
       ".dataframe > tbody > tr > td {\n",
       "  text-align: right;\n",
       "}\n",
       "</style>\n",
       "<small>shape: (1, 25)</small><table border=\"1\" class=\"dataframe\"><thead><tr><th>City Name</th><th>Type</th><th>Package</th><th>Variety</th><th>Sub Variety</th><th>Grade</th><th>Date</th><th>Low Price</th><th>High Price</th><th>Mostly Low</th><th>Mostly High</th><th>Origin</th><th>Origin District</th><th>Item Size</th><th>Color</th><th>Environment</th><th>Unit of Sale</th><th>Quality</th><th>Condition</th><th>Appearance</th><th>Storage</th><th>Crop</th><th>Repack</th><th>Trans Mode</th><th></th></tr><tr><td>u32</td><td>u32</td><td>u32</td><td>u32</td><td>u32</td><td>u32</td><td>u32</td><td>u32</td><td>u32</td><td>u32</td><td>u32</td><td>u32</td><td>u32</td><td>u32</td><td>u32</td><td>u32</td><td>u32</td><td>u32</td><td>u32</td><td>u32</td><td>u32</td><td>u32</td><td>u32</td><td>u32</td><td>u32</td></tr></thead><tbody><tr><td>0</td><td>1712</td><td>0</td><td>5</td><td>1461</td><td>1757</td><td>0</td><td>0</td><td>0</td><td>103</td><td>103</td><td>3</td><td>1626</td><td>279</td><td>616</td><td>1757</td><td>1595</td><td>1757</td><td>1757</td><td>1757</td><td>1757</td><td>1757</td><td>0</td><td>1757</td><td>1757</td></tr></tbody></table></div>"
      ],
      "text/plain": [
       "shape: (1, 25)\n",
       "┌───────────┬──────┬─────────┬─────────┬───┬──────┬────────┬────────────┬──────┐\n",
       "│ City Name ┆ Type ┆ Package ┆ Variety ┆ … ┆ Crop ┆ Repack ┆ Trans Mode ┆      │\n",
       "│ ---       ┆ ---  ┆ ---     ┆ ---     ┆   ┆ ---  ┆ ---    ┆ ---        ┆ ---  │\n",
       "│ u32       ┆ u32  ┆ u32     ┆ u32     ┆   ┆ u32  ┆ u32    ┆ u32        ┆ u32  │\n",
       "╞═══════════╪══════╪═════════╪═════════╪═══╪══════╪════════╪════════════╪══════╡\n",
       "│ 0         ┆ 1712 ┆ 0       ┆ 5       ┆ … ┆ 1757 ┆ 0      ┆ 1757       ┆ 1757 │\n",
       "└───────────┴──────┴─────────┴─────────┴───┴──────┴────────┴────────────┴──────┘"
      ]
     },
     "execution_count": 4,
     "metadata": {},
     "output_type": "execute_result"
    }
   ],
   "source": [
    "pumpkins.null_count()"
   ]
  },
  {
   "attachments": {},
   "cell_type": "markdown",
   "metadata": {},
   "source": [
    "### Select Revelant Attributes"
   ]
  },
  {
   "cell_type": "code",
   "execution_count": 5,
   "metadata": {},
   "outputs": [
    {
     "data": {
      "text/html": [
       "<div><style>\n",
       ".dataframe > thead > tr > th,\n",
       ".dataframe > tbody > tr > td {\n",
       "  text-align: right;\n",
       "}\n",
       "</style>\n",
       "<small>shape: (1_757, 4)</small><table border=\"1\" class=\"dataframe\"><thead><tr><th>Package</th><th>Low Price</th><th>High Price</th><th>Date</th></tr><tr><td>str</td><td>f64</td><td>f64</td><td>str</td></tr></thead><tbody><tr><td>&quot;24 inch bins&quot;</td><td>270.0</td><td>280.0</td><td>&quot;4/29/17&quot;</td></tr><tr><td>&quot;24 inch bins&quot;</td><td>270.0</td><td>280.0</td><td>&quot;5/6/17&quot;</td></tr><tr><td>&quot;24 inch bins&quot;</td><td>160.0</td><td>160.0</td><td>&quot;9/24/16&quot;</td></tr><tr><td>&quot;24 inch bins&quot;</td><td>160.0</td><td>160.0</td><td>&quot;9/24/16&quot;</td></tr><tr><td>&quot;24 inch bins&quot;</td><td>90.0</td><td>100.0</td><td>&quot;11/5/16&quot;</td></tr><tr><td>&quot;24 inch bins&quot;</td><td>90.0</td><td>100.0</td><td>&quot;11/12/16&quot;</td></tr><tr><td>&quot;36 inch bins&quot;</td><td>160.0</td><td>170.0</td><td>&quot;9/24/16&quot;</td></tr><tr><td>&quot;36 inch bins&quot;</td><td>160.0</td><td>160.0</td><td>&quot;9/24/16&quot;</td></tr><tr><td>&quot;36 inch bins&quot;</td><td>160.0</td><td>170.0</td><td>&quot;10/1/16&quot;</td></tr><tr><td>&quot;36 inch bins&quot;</td><td>160.0</td><td>160.0</td><td>&quot;10/1/16&quot;</td></tr><tr><td>&quot;36 inch bins&quot;</td><td>160.0</td><td>170.0</td><td>&quot;10/8/16&quot;</td></tr><tr><td>&quot;36 inch bins&quot;</td><td>160.0</td><td>160.0</td><td>&quot;10/8/16&quot;</td></tr><tr><td>&hellip;</td><td>&hellip;</td><td>&hellip;</td><td>&hellip;</td></tr><tr><td>&quot;22 lb cartons&quot;</td><td>16.75</td><td>16.75</td><td>&quot;9/27/16&quot;</td></tr><tr><td>&quot;22 lb cartons&quot;</td><td>16.75</td><td>16.75</td><td>&quot;9/27/16&quot;</td></tr><tr><td>&quot;22 lb cartons&quot;</td><td>14.75</td><td>14.75</td><td>&quot;9/28/16&quot;</td></tr><tr><td>&quot;22 lb cartons&quot;</td><td>14.75</td><td>14.75</td><td>&quot;9/28/16&quot;</td></tr><tr><td>&quot;22 lb cartons&quot;</td><td>10.75</td><td>10.75</td><td>&quot;9/29/16&quot;</td></tr><tr><td>&quot;22 lb cartons&quot;</td><td>14.75</td><td>14.75</td><td>&quot;9/29/16&quot;</td></tr><tr><td>&quot;22 lb cartons&quot;</td><td>10.75</td><td>10.75</td><td>&quot;9/30/16&quot;</td></tr><tr><td>&quot;22 lb cartons&quot;</td><td>14.75</td><td>14.75</td><td>&quot;9/30/16&quot;</td></tr><tr><td>&quot;36 inch bins&quot;</td><td>275.0</td><td>275.0</td><td>&quot;9/26/16&quot;</td></tr><tr><td>&quot;36 inch bins&quot;</td><td>275.0</td><td>275.0</td><td>&quot;9/27/16&quot;</td></tr><tr><td>&quot;36 inch bins&quot;</td><td>275.0</td><td>275.0</td><td>&quot;9/28/16&quot;</td></tr><tr><td>&quot;36 inch bins&quot;</td><td>275.0</td><td>275.0</td><td>&quot;9/29/16&quot;</td></tr></tbody></table></div>"
      ],
      "text/plain": [
       "shape: (1_757, 4)\n",
       "┌──────────────┬───────────┬────────────┬─────────┐\n",
       "│ Package      ┆ Low Price ┆ High Price ┆ Date    │\n",
       "│ ---          ┆ ---       ┆ ---        ┆ ---     │\n",
       "│ str          ┆ f64       ┆ f64        ┆ str     │\n",
       "╞══════════════╪═══════════╪════════════╪═════════╡\n",
       "│ 24 inch bins ┆ 270.0     ┆ 280.0      ┆ 4/29/17 │\n",
       "│ 24 inch bins ┆ 270.0     ┆ 280.0      ┆ 5/6/17  │\n",
       "│ 24 inch bins ┆ 160.0     ┆ 160.0      ┆ 9/24/16 │\n",
       "│ 24 inch bins ┆ 160.0     ┆ 160.0      ┆ 9/24/16 │\n",
       "│ …            ┆ …         ┆ …          ┆ …       │\n",
       "│ 36 inch bins ┆ 275.0     ┆ 275.0      ┆ 9/26/16 │\n",
       "│ 36 inch bins ┆ 275.0     ┆ 275.0      ┆ 9/27/16 │\n",
       "│ 36 inch bins ┆ 275.0     ┆ 275.0      ┆ 9/28/16 │\n",
       "│ 36 inch bins ┆ 275.0     ┆ 275.0      ┆ 9/29/16 │\n",
       "└──────────────┴───────────┴────────────┴─────────┘"
      ]
     },
     "execution_count": 5,
     "metadata": {},
     "output_type": "execute_result"
    }
   ],
   "source": [
    "pumpkins = pumpkins.select([\"Package\", \"Low Price\", \"High Price\", \"Date\"])\n",
    "pumpkins"
   ]
  },
  {
   "attachments": {},
   "cell_type": "markdown",
   "metadata": {},
   "source": [
    "### Convert to Proper Data Types"
   ]
  },
  {
   "cell_type": "code",
   "execution_count": 6,
   "metadata": {},
   "outputs": [
    {
     "name": "stdout",
     "output_type": "stream",
     "text": [
      "(Height, Rows): 1757, (Width, Columns): 4\n"
     ]
    },
    {
     "data": {
      "text/html": [
       "<div><style>\n",
       ".dataframe > thead > tr > th,\n",
       ".dataframe > tbody > tr > td {\n",
       "  text-align: right;\n",
       "}\n",
       "</style>\n",
       "<small>shape: (1_757, 4)</small><table border=\"1\" class=\"dataframe\"><thead><tr><th>Package</th><th>Low Price</th><th>High Price</th><th>Date</th></tr><tr><td>str</td><td>f64</td><td>f64</td><td>date</td></tr></thead><tbody><tr><td>&quot;24 inch bins&quot;</td><td>270.0</td><td>280.0</td><td>2017-04-29</td></tr><tr><td>&quot;24 inch bins&quot;</td><td>270.0</td><td>280.0</td><td>2017-05-06</td></tr><tr><td>&quot;24 inch bins&quot;</td><td>160.0</td><td>160.0</td><td>2016-09-24</td></tr><tr><td>&quot;24 inch bins&quot;</td><td>160.0</td><td>160.0</td><td>2016-09-24</td></tr><tr><td>&quot;24 inch bins&quot;</td><td>90.0</td><td>100.0</td><td>2016-11-05</td></tr><tr><td>&quot;24 inch bins&quot;</td><td>90.0</td><td>100.0</td><td>2016-11-12</td></tr><tr><td>&quot;36 inch bins&quot;</td><td>160.0</td><td>170.0</td><td>2016-09-24</td></tr><tr><td>&quot;36 inch bins&quot;</td><td>160.0</td><td>160.0</td><td>2016-09-24</td></tr><tr><td>&quot;36 inch bins&quot;</td><td>160.0</td><td>170.0</td><td>2016-10-01</td></tr><tr><td>&quot;36 inch bins&quot;</td><td>160.0</td><td>160.0</td><td>2016-10-01</td></tr><tr><td>&quot;36 inch bins&quot;</td><td>160.0</td><td>170.0</td><td>2016-10-08</td></tr><tr><td>&quot;36 inch bins&quot;</td><td>160.0</td><td>160.0</td><td>2016-10-08</td></tr><tr><td>&hellip;</td><td>&hellip;</td><td>&hellip;</td><td>&hellip;</td></tr><tr><td>&quot;22 lb cartons&quot;</td><td>16.75</td><td>16.75</td><td>2016-09-27</td></tr><tr><td>&quot;22 lb cartons&quot;</td><td>16.75</td><td>16.75</td><td>2016-09-27</td></tr><tr><td>&quot;22 lb cartons&quot;</td><td>14.75</td><td>14.75</td><td>2016-09-28</td></tr><tr><td>&quot;22 lb cartons&quot;</td><td>14.75</td><td>14.75</td><td>2016-09-28</td></tr><tr><td>&quot;22 lb cartons&quot;</td><td>10.75</td><td>10.75</td><td>2016-09-29</td></tr><tr><td>&quot;22 lb cartons&quot;</td><td>14.75</td><td>14.75</td><td>2016-09-29</td></tr><tr><td>&quot;22 lb cartons&quot;</td><td>10.75</td><td>10.75</td><td>2016-09-30</td></tr><tr><td>&quot;22 lb cartons&quot;</td><td>14.75</td><td>14.75</td><td>2016-09-30</td></tr><tr><td>&quot;36 inch bins&quot;</td><td>275.0</td><td>275.0</td><td>2016-09-26</td></tr><tr><td>&quot;36 inch bins&quot;</td><td>275.0</td><td>275.0</td><td>2016-09-27</td></tr><tr><td>&quot;36 inch bins&quot;</td><td>275.0</td><td>275.0</td><td>2016-09-28</td></tr><tr><td>&quot;36 inch bins&quot;</td><td>275.0</td><td>275.0</td><td>2016-09-29</td></tr></tbody></table></div>"
      ],
      "text/plain": [
       "shape: (1_757, 4)\n",
       "┌──────────────┬───────────┬────────────┬────────────┐\n",
       "│ Package      ┆ Low Price ┆ High Price ┆ Date       │\n",
       "│ ---          ┆ ---       ┆ ---        ┆ ---        │\n",
       "│ str          ┆ f64       ┆ f64        ┆ date       │\n",
       "╞══════════════╪═══════════╪════════════╪════════════╡\n",
       "│ 24 inch bins ┆ 270.0     ┆ 280.0      ┆ 2017-04-29 │\n",
       "│ 24 inch bins ┆ 270.0     ┆ 280.0      ┆ 2017-05-06 │\n",
       "│ 24 inch bins ┆ 160.0     ┆ 160.0      ┆ 2016-09-24 │\n",
       "│ 24 inch bins ┆ 160.0     ┆ 160.0      ┆ 2016-09-24 │\n",
       "│ …            ┆ …         ┆ …          ┆ …          │\n",
       "│ 36 inch bins ┆ 275.0     ┆ 275.0      ┆ 2016-09-26 │\n",
       "│ 36 inch bins ┆ 275.0     ┆ 275.0      ┆ 2016-09-27 │\n",
       "│ 36 inch bins ┆ 275.0     ┆ 275.0      ┆ 2016-09-28 │\n",
       "│ 36 inch bins ┆ 275.0     ┆ 275.0      ┆ 2016-09-29 │\n",
       "└──────────────┴───────────┴────────────┴────────────┘"
      ]
     },
     "execution_count": 6,
     "metadata": {},
     "output_type": "execute_result"
    }
   ],
   "source": [
    "# Convert the date into a Date properly.\n",
    "pumpkins = pumpkins.with_columns(\n",
    "  [pl.col(\"Date\").str.strptime(pl.Date, format=\"%m/%d/%y\", strict=True)])\n",
    "print(f\"(Height, Rows): {pumpkins.height}, (Width, Columns): {pumpkins.width}\")\n",
    "pumpkins\n"
   ]
  },
  {
   "attachments": {},
   "cell_type": "markdown",
   "metadata": {},
   "source": [
    "### Filter Pumpkins Packages"
   ]
  },
  {
   "cell_type": "code",
   "execution_count": 7,
   "metadata": {},
   "outputs": [
    {
     "name": "stdout",
     "output_type": "stream",
     "text": [
      "(Height, Rows): 415, (Width, Columns): 4\n"
     ]
    },
    {
     "data": {
      "text/html": [
       "<div><style>\n",
       ".dataframe > thead > tr > th,\n",
       ".dataframe > tbody > tr > td {\n",
       "  text-align: right;\n",
       "}\n",
       "</style>\n",
       "<small>shape: (415, 4)</small><table border=\"1\" class=\"dataframe\"><thead><tr><th>Package</th><th>Low Price</th><th>High Price</th><th>Date</th></tr><tr><td>str</td><td>f64</td><td>f64</td><td>date</td></tr></thead><tbody><tr><td>&quot;1 1/9 bushel c…</td><td>15.0</td><td>15.0</td><td>2016-09-24</td></tr><tr><td>&quot;1 1/9 bushel c…</td><td>18.0</td><td>18.0</td><td>2016-09-24</td></tr><tr><td>&quot;1 1/9 bushel c…</td><td>18.0</td><td>18.0</td><td>2016-10-01</td></tr><tr><td>&quot;1 1/9 bushel c…</td><td>17.0</td><td>17.0</td><td>2016-10-01</td></tr><tr><td>&quot;1 1/9 bushel c…</td><td>15.0</td><td>15.0</td><td>2016-10-08</td></tr><tr><td>&quot;1 1/9 bushel c…</td><td>18.0</td><td>18.0</td><td>2016-10-08</td></tr><tr><td>&quot;1 1/9 bushel c…</td><td>17.0</td><td>17.0</td><td>2016-10-08</td></tr><tr><td>&quot;1 1/9 bushel c…</td><td>17.0</td><td>18.5</td><td>2016-10-08</td></tr><tr><td>&quot;1 1/9 bushel c…</td><td>15.0</td><td>15.0</td><td>2016-10-15</td></tr><tr><td>&quot;1 1/9 bushel c…</td><td>17.0</td><td>17.0</td><td>2016-10-15</td></tr><tr><td>&quot;1 1/9 bushel c…</td><td>17.0</td><td>18.5</td><td>2016-10-15</td></tr><tr><td>&quot;1 1/9 bushel c…</td><td>15.0</td><td>15.0</td><td>2016-10-22</td></tr><tr><td>&hellip;</td><td>&hellip;</td><td>&hellip;</td><td>&hellip;</td></tr><tr><td>&quot;1/2 bushel car…</td><td>15.0</td><td>15.0</td><td>2016-09-29</td></tr><tr><td>&quot;1/2 bushel car…</td><td>15.0</td><td>15.0</td><td>2016-09-29</td></tr><tr><td>&quot;1/2 bushel car…</td><td>13.75</td><td>15.0</td><td>2016-09-29</td></tr><tr><td>&quot;1/2 bushel car…</td><td>10.75</td><td>15.0</td><td>2016-09-29</td></tr><tr><td>&quot;1/2 bushel car…</td><td>12.0</td><td>12.0</td><td>2016-09-29</td></tr><tr><td>&quot;1/2 bushel car…</td><td>12.0</td><td>12.0</td><td>2016-09-29</td></tr><tr><td>&quot;1/2 bushel car…</td><td>15.0</td><td>15.0</td><td>2016-09-30</td></tr><tr><td>&quot;1/2 bushel car…</td><td>15.0</td><td>15.0</td><td>2016-09-30</td></tr><tr><td>&quot;1/2 bushel car…</td><td>13.75</td><td>15.0</td><td>2016-09-30</td></tr><tr><td>&quot;1/2 bushel car…</td><td>10.75</td><td>15.0</td><td>2016-09-30</td></tr><tr><td>&quot;1/2 bushel car…</td><td>12.0</td><td>12.0</td><td>2016-09-30</td></tr><tr><td>&quot;1/2 bushel car…</td><td>12.0</td><td>12.0</td><td>2016-09-30</td></tr></tbody></table></div>"
      ],
      "text/plain": [
       "shape: (415, 4)\n",
       "┌──────────────────────┬───────────┬────────────┬────────────┐\n",
       "│ Package              ┆ Low Price ┆ High Price ┆ Date       │\n",
       "│ ---                  ┆ ---       ┆ ---        ┆ ---        │\n",
       "│ str                  ┆ f64       ┆ f64        ┆ date       │\n",
       "╞══════════════════════╪═══════════╪════════════╪════════════╡\n",
       "│ 1 1/9 bushel cartons ┆ 15.0      ┆ 15.0       ┆ 2016-09-24 │\n",
       "│ 1 1/9 bushel cartons ┆ 18.0      ┆ 18.0       ┆ 2016-09-24 │\n",
       "│ 1 1/9 bushel cartons ┆ 18.0      ┆ 18.0       ┆ 2016-10-01 │\n",
       "│ 1 1/9 bushel cartons ┆ 17.0      ┆ 17.0       ┆ 2016-10-01 │\n",
       "│ …                    ┆ …         ┆ …          ┆ …          │\n",
       "│ 1/2 bushel cartons   ┆ 13.75     ┆ 15.0       ┆ 2016-09-30 │\n",
       "│ 1/2 bushel cartons   ┆ 10.75     ┆ 15.0       ┆ 2016-09-30 │\n",
       "│ 1/2 bushel cartons   ┆ 12.0      ┆ 12.0       ┆ 2016-09-30 │\n",
       "│ 1/2 bushel cartons   ┆ 12.0      ┆ 12.0       ┆ 2016-09-30 │\n",
       "└──────────────────────┴───────────┴────────────┴────────────┘"
      ]
     },
     "execution_count": 7,
     "metadata": {},
     "output_type": "execute_result"
    }
   ],
   "source": [
    "# Filter the pumpkings packaged in bushels\n",
    "\n",
    "pumpkins = pumpkins.filter(\n",
    "  pl.col(\"Package\").str.contains(\"bushel\", literal=True))\n",
    "print(f\"(Height, Rows): {pumpkins.height}, (Width, Columns): {pumpkins.width}\")\n",
    "pumpkins"
   ]
  },
  {
   "attachments": {},
   "cell_type": "markdown",
   "metadata": {},
   "source": [
    "### Calculate the Average Price"
   ]
  },
  {
   "cell_type": "code",
   "execution_count": 8,
   "metadata": {},
   "outputs": [
    {
     "data": {
      "text/html": [
       "<div><style>\n",
       ".dataframe > thead > tr > th,\n",
       ".dataframe > tbody > tr > td {\n",
       "  text-align: right;\n",
       "}\n",
       "</style>\n",
       "<small>shape: (415, 5)</small><table border=\"1\" class=\"dataframe\"><thead><tr><th>Package</th><th>Low Price</th><th>High Price</th><th>Date</th><th>Price</th></tr><tr><td>str</td><td>f64</td><td>f64</td><td>date</td><td>f64</td></tr></thead><tbody><tr><td>&quot;1 1/9 bushel c…</td><td>15.0</td><td>15.0</td><td>2016-09-24</td><td>15.0</td></tr><tr><td>&quot;1 1/9 bushel c…</td><td>18.0</td><td>18.0</td><td>2016-09-24</td><td>18.0</td></tr><tr><td>&quot;1 1/9 bushel c…</td><td>18.0</td><td>18.0</td><td>2016-10-01</td><td>18.0</td></tr><tr><td>&quot;1 1/9 bushel c…</td><td>17.0</td><td>17.0</td><td>2016-10-01</td><td>17.0</td></tr><tr><td>&quot;1 1/9 bushel c…</td><td>15.0</td><td>15.0</td><td>2016-10-08</td><td>15.0</td></tr><tr><td>&quot;1 1/9 bushel c…</td><td>18.0</td><td>18.0</td><td>2016-10-08</td><td>18.0</td></tr><tr><td>&quot;1 1/9 bushel c…</td><td>17.0</td><td>17.0</td><td>2016-10-08</td><td>17.0</td></tr><tr><td>&quot;1 1/9 bushel c…</td><td>17.0</td><td>18.5</td><td>2016-10-08</td><td>17.75</td></tr><tr><td>&quot;1 1/9 bushel c…</td><td>15.0</td><td>15.0</td><td>2016-10-15</td><td>15.0</td></tr><tr><td>&quot;1 1/9 bushel c…</td><td>17.0</td><td>17.0</td><td>2016-10-15</td><td>17.0</td></tr><tr><td>&quot;1 1/9 bushel c…</td><td>17.0</td><td>18.5</td><td>2016-10-15</td><td>17.75</td></tr><tr><td>&quot;1 1/9 bushel c…</td><td>15.0</td><td>15.0</td><td>2016-10-22</td><td>15.0</td></tr><tr><td>&hellip;</td><td>&hellip;</td><td>&hellip;</td><td>&hellip;</td><td>&hellip;</td></tr><tr><td>&quot;1/2 bushel car…</td><td>15.0</td><td>15.0</td><td>2016-09-29</td><td>15.0</td></tr><tr><td>&quot;1/2 bushel car…</td><td>15.0</td><td>15.0</td><td>2016-09-29</td><td>15.0</td></tr><tr><td>&quot;1/2 bushel car…</td><td>13.75</td><td>15.0</td><td>2016-09-29</td><td>14.375</td></tr><tr><td>&quot;1/2 bushel car…</td><td>10.75</td><td>15.0</td><td>2016-09-29</td><td>12.875</td></tr><tr><td>&quot;1/2 bushel car…</td><td>12.0</td><td>12.0</td><td>2016-09-29</td><td>12.0</td></tr><tr><td>&quot;1/2 bushel car…</td><td>12.0</td><td>12.0</td><td>2016-09-29</td><td>12.0</td></tr><tr><td>&quot;1/2 bushel car…</td><td>15.0</td><td>15.0</td><td>2016-09-30</td><td>15.0</td></tr><tr><td>&quot;1/2 bushel car…</td><td>15.0</td><td>15.0</td><td>2016-09-30</td><td>15.0</td></tr><tr><td>&quot;1/2 bushel car…</td><td>13.75</td><td>15.0</td><td>2016-09-30</td><td>14.375</td></tr><tr><td>&quot;1/2 bushel car…</td><td>10.75</td><td>15.0</td><td>2016-09-30</td><td>12.875</td></tr><tr><td>&quot;1/2 bushel car…</td><td>12.0</td><td>12.0</td><td>2016-09-30</td><td>12.0</td></tr><tr><td>&quot;1/2 bushel car…</td><td>12.0</td><td>12.0</td><td>2016-09-30</td><td>12.0</td></tr></tbody></table></div>"
      ],
      "text/plain": [
       "shape: (415, 5)\n",
       "┌──────────────────────┬───────────┬────────────┬────────────┬────────┐\n",
       "│ Package              ┆ Low Price ┆ High Price ┆ Date       ┆ Price  │\n",
       "│ ---                  ┆ ---       ┆ ---        ┆ ---        ┆ ---    │\n",
       "│ str                  ┆ f64       ┆ f64        ┆ date       ┆ f64    │\n",
       "╞══════════════════════╪═══════════╪════════════╪════════════╪════════╡\n",
       "│ 1 1/9 bushel cartons ┆ 15.0      ┆ 15.0       ┆ 2016-09-24 ┆ 15.0   │\n",
       "│ 1 1/9 bushel cartons ┆ 18.0      ┆ 18.0       ┆ 2016-09-24 ┆ 18.0   │\n",
       "│ 1 1/9 bushel cartons ┆ 18.0      ┆ 18.0       ┆ 2016-10-01 ┆ 18.0   │\n",
       "│ 1 1/9 bushel cartons ┆ 17.0      ┆ 17.0       ┆ 2016-10-01 ┆ 17.0   │\n",
       "│ …                    ┆ …         ┆ …          ┆ …          ┆ …      │\n",
       "│ 1/2 bushel cartons   ┆ 13.75     ┆ 15.0       ┆ 2016-09-30 ┆ 14.375 │\n",
       "│ 1/2 bushel cartons   ┆ 10.75     ┆ 15.0       ┆ 2016-09-30 ┆ 12.875 │\n",
       "│ 1/2 bushel cartons   ┆ 12.0      ┆ 12.0       ┆ 2016-09-30 ┆ 12.0   │\n",
       "│ 1/2 bushel cartons   ┆ 12.0      ┆ 12.0       ┆ 2016-09-30 ┆ 12.0   │\n",
       "└──────────────────────┴───────────┴────────────┴────────────┴────────┘"
      ]
     },
     "execution_count": 8,
     "metadata": {},
     "output_type": "execute_result"
    }
   ],
   "source": [
    "#price = (pumpkins[\"Low Price\"] + pumpkins[\"High Price\"])/2\n",
    "pumpkins = pumpkins.with_columns(\n",
    "  [((pl.col(\"Low Price\") + pl.col(\"High Price\")) / 2).alias(\"Price\")])\n",
    "pumpkins\n"
   ]
  },
  {
   "attachments": {},
   "cell_type": "markdown",
   "metadata": {},
   "source": [
    "### Extract the Month"
   ]
  },
  {
   "cell_type": "code",
   "execution_count": 9,
   "metadata": {},
   "outputs": [
    {
     "data": {
      "text/html": [
       "<div><style>\n",
       ".dataframe > thead > tr > th,\n",
       ".dataframe > tbody > tr > td {\n",
       "  text-align: right;\n",
       "}\n",
       "</style>\n",
       "<small>shape: (415, 5)</small><table border=\"1\" class=\"dataframe\"><thead><tr><th>Package</th><th>Low Price</th><th>High Price</th><th>Price</th><th>Month</th></tr><tr><td>str</td><td>f64</td><td>f64</td><td>f64</td><td>u32</td></tr></thead><tbody><tr><td>&quot;1 1/9 bushel c…</td><td>15.0</td><td>15.0</td><td>15.0</td><td>9</td></tr><tr><td>&quot;1 1/9 bushel c…</td><td>18.0</td><td>18.0</td><td>18.0</td><td>9</td></tr><tr><td>&quot;1 1/9 bushel c…</td><td>18.0</td><td>18.0</td><td>18.0</td><td>10</td></tr><tr><td>&quot;1 1/9 bushel c…</td><td>17.0</td><td>17.0</td><td>17.0</td><td>10</td></tr><tr><td>&quot;1 1/9 bushel c…</td><td>15.0</td><td>15.0</td><td>15.0</td><td>10</td></tr><tr><td>&quot;1 1/9 bushel c…</td><td>18.0</td><td>18.0</td><td>18.0</td><td>10</td></tr><tr><td>&quot;1 1/9 bushel c…</td><td>17.0</td><td>17.0</td><td>17.0</td><td>10</td></tr><tr><td>&quot;1 1/9 bushel c…</td><td>17.0</td><td>18.5</td><td>17.75</td><td>10</td></tr><tr><td>&quot;1 1/9 bushel c…</td><td>15.0</td><td>15.0</td><td>15.0</td><td>10</td></tr><tr><td>&quot;1 1/9 bushel c…</td><td>17.0</td><td>17.0</td><td>17.0</td><td>10</td></tr><tr><td>&quot;1 1/9 bushel c…</td><td>17.0</td><td>18.5</td><td>17.75</td><td>10</td></tr><tr><td>&quot;1 1/9 bushel c…</td><td>15.0</td><td>15.0</td><td>15.0</td><td>10</td></tr><tr><td>&hellip;</td><td>&hellip;</td><td>&hellip;</td><td>&hellip;</td><td>&hellip;</td></tr><tr><td>&quot;1/2 bushel car…</td><td>15.0</td><td>15.0</td><td>15.0</td><td>9</td></tr><tr><td>&quot;1/2 bushel car…</td><td>15.0</td><td>15.0</td><td>15.0</td><td>9</td></tr><tr><td>&quot;1/2 bushel car…</td><td>13.75</td><td>15.0</td><td>14.375</td><td>9</td></tr><tr><td>&quot;1/2 bushel car…</td><td>10.75</td><td>15.0</td><td>12.875</td><td>9</td></tr><tr><td>&quot;1/2 bushel car…</td><td>12.0</td><td>12.0</td><td>12.0</td><td>9</td></tr><tr><td>&quot;1/2 bushel car…</td><td>12.0</td><td>12.0</td><td>12.0</td><td>9</td></tr><tr><td>&quot;1/2 bushel car…</td><td>15.0</td><td>15.0</td><td>15.0</td><td>9</td></tr><tr><td>&quot;1/2 bushel car…</td><td>15.0</td><td>15.0</td><td>15.0</td><td>9</td></tr><tr><td>&quot;1/2 bushel car…</td><td>13.75</td><td>15.0</td><td>14.375</td><td>9</td></tr><tr><td>&quot;1/2 bushel car…</td><td>10.75</td><td>15.0</td><td>12.875</td><td>9</td></tr><tr><td>&quot;1/2 bushel car…</td><td>12.0</td><td>12.0</td><td>12.0</td><td>9</td></tr><tr><td>&quot;1/2 bushel car…</td><td>12.0</td><td>12.0</td><td>12.0</td><td>9</td></tr></tbody></table></div>"
      ],
      "text/plain": [
       "shape: (415, 5)\n",
       "┌──────────────────────┬───────────┬────────────┬────────┬───────┐\n",
       "│ Package              ┆ Low Price ┆ High Price ┆ Price  ┆ Month │\n",
       "│ ---                  ┆ ---       ┆ ---        ┆ ---    ┆ ---   │\n",
       "│ str                  ┆ f64       ┆ f64        ┆ f64    ┆ u32   │\n",
       "╞══════════════════════╪═══════════╪════════════╪════════╪═══════╡\n",
       "│ 1 1/9 bushel cartons ┆ 15.0      ┆ 15.0       ┆ 15.0   ┆ 9     │\n",
       "│ 1 1/9 bushel cartons ┆ 18.0      ┆ 18.0       ┆ 18.0   ┆ 9     │\n",
       "│ 1 1/9 bushel cartons ┆ 18.0      ┆ 18.0       ┆ 18.0   ┆ 10    │\n",
       "│ 1 1/9 bushel cartons ┆ 17.0      ┆ 17.0       ┆ 17.0   ┆ 10    │\n",
       "│ …                    ┆ …         ┆ …          ┆ …      ┆ …     │\n",
       "│ 1/2 bushel cartons   ┆ 13.75     ┆ 15.0       ┆ 14.375 ┆ 9     │\n",
       "│ 1/2 bushel cartons   ┆ 10.75     ┆ 15.0       ┆ 12.875 ┆ 9     │\n",
       "│ 1/2 bushel cartons   ┆ 12.0      ┆ 12.0       ┆ 12.0   ┆ 9     │\n",
       "│ 1/2 bushel cartons   ┆ 12.0      ┆ 12.0       ┆ 12.0   ┆ 9     │\n",
       "└──────────────────────┴───────────┴────────────┴────────┴───────┘"
      ]
     },
     "execution_count": 9,
     "metadata": {},
     "output_type": "execute_result"
    }
   ],
   "source": [
    "pumpkins = pumpkins.with_columns([\n",
    "  (pl.col(\"Date\").dt.month()).alias(\"Month\")\n",
    "]).select([\"Package\", \"Low Price\", \"High Price\", \"Price\", \"Month\"])\n",
    "pumpkins\n"
   ]
  },
  {
   "cell_type": "code",
   "execution_count": 10,
   "metadata": {},
   "outputs": [
    {
     "data": {
      "text/html": [
       "<div><style>\n",
       ".dataframe > thead > tr > th,\n",
       ".dataframe > tbody > tr > td {\n",
       "  text-align: right;\n",
       "}\n",
       "</style>\n",
       "<small>shape: (415, 5)</small><table border=\"1\" class=\"dataframe\"><thead><tr><th>Package</th><th>Low Price</th><th>High Price</th><th>Price</th><th>Month</th></tr><tr><td>str</td><td>f64</td><td>f64</td><td>f64</td><td>u32</td></tr></thead><tbody><tr><td>&quot;1 1/9 bushel c…</td><td>15.0</td><td>15.0</td><td>13.5</td><td>9</td></tr><tr><td>&quot;1 1/9 bushel c…</td><td>18.0</td><td>18.0</td><td>16.2</td><td>9</td></tr><tr><td>&quot;1 1/9 bushel c…</td><td>18.0</td><td>18.0</td><td>16.2</td><td>10</td></tr><tr><td>&quot;1 1/9 bushel c…</td><td>17.0</td><td>17.0</td><td>15.3</td><td>10</td></tr><tr><td>&quot;1 1/9 bushel c…</td><td>15.0</td><td>15.0</td><td>13.5</td><td>10</td></tr><tr><td>&quot;1 1/9 bushel c…</td><td>18.0</td><td>18.0</td><td>16.2</td><td>10</td></tr><tr><td>&quot;1 1/9 bushel c…</td><td>17.0</td><td>17.0</td><td>15.3</td><td>10</td></tr><tr><td>&quot;1 1/9 bushel c…</td><td>17.0</td><td>18.5</td><td>15.975</td><td>10</td></tr><tr><td>&quot;1 1/9 bushel c…</td><td>15.0</td><td>15.0</td><td>13.5</td><td>10</td></tr><tr><td>&quot;1 1/9 bushel c…</td><td>17.0</td><td>17.0</td><td>15.3</td><td>10</td></tr><tr><td>&quot;1 1/9 bushel c…</td><td>17.0</td><td>18.5</td><td>15.975</td><td>10</td></tr><tr><td>&quot;1 1/9 bushel c…</td><td>15.0</td><td>15.0</td><td>13.5</td><td>10</td></tr><tr><td>&hellip;</td><td>&hellip;</td><td>&hellip;</td><td>&hellip;</td><td>&hellip;</td></tr><tr><td>&quot;1/2 bushel car…</td><td>15.0</td><td>15.0</td><td>30.0</td><td>9</td></tr><tr><td>&quot;1/2 bushel car…</td><td>15.0</td><td>15.0</td><td>30.0</td><td>9</td></tr><tr><td>&quot;1/2 bushel car…</td><td>13.75</td><td>15.0</td><td>28.75</td><td>9</td></tr><tr><td>&quot;1/2 bushel car…</td><td>10.75</td><td>15.0</td><td>25.75</td><td>9</td></tr><tr><td>&quot;1/2 bushel car…</td><td>12.0</td><td>12.0</td><td>24.0</td><td>9</td></tr><tr><td>&quot;1/2 bushel car…</td><td>12.0</td><td>12.0</td><td>24.0</td><td>9</td></tr><tr><td>&quot;1/2 bushel car…</td><td>15.0</td><td>15.0</td><td>30.0</td><td>9</td></tr><tr><td>&quot;1/2 bushel car…</td><td>15.0</td><td>15.0</td><td>30.0</td><td>9</td></tr><tr><td>&quot;1/2 bushel car…</td><td>13.75</td><td>15.0</td><td>28.75</td><td>9</td></tr><tr><td>&quot;1/2 bushel car…</td><td>10.75</td><td>15.0</td><td>25.75</td><td>9</td></tr><tr><td>&quot;1/2 bushel car…</td><td>12.0</td><td>12.0</td><td>24.0</td><td>9</td></tr><tr><td>&quot;1/2 bushel car…</td><td>12.0</td><td>12.0</td><td>24.0</td><td>9</td></tr></tbody></table></div>"
      ],
      "text/plain": [
       "shape: (415, 5)\n",
       "┌──────────────────────┬───────────┬────────────┬───────┬───────┐\n",
       "│ Package              ┆ Low Price ┆ High Price ┆ Price ┆ Month │\n",
       "│ ---                  ┆ ---       ┆ ---        ┆ ---   ┆ ---   │\n",
       "│ str                  ┆ f64       ┆ f64        ┆ f64   ┆ u32   │\n",
       "╞══════════════════════╪═══════════╪════════════╪═══════╪═══════╡\n",
       "│ 1 1/9 bushel cartons ┆ 15.0      ┆ 15.0       ┆ 13.5  ┆ 9     │\n",
       "│ 1 1/9 bushel cartons ┆ 18.0      ┆ 18.0       ┆ 16.2  ┆ 9     │\n",
       "│ 1 1/9 bushel cartons ┆ 18.0      ┆ 18.0       ┆ 16.2  ┆ 10    │\n",
       "│ 1 1/9 bushel cartons ┆ 17.0      ┆ 17.0       ┆ 15.3  ┆ 10    │\n",
       "│ …                    ┆ …         ┆ …          ┆ …     ┆ …     │\n",
       "│ 1/2 bushel cartons   ┆ 13.75     ┆ 15.0       ┆ 28.75 ┆ 9     │\n",
       "│ 1/2 bushel cartons   ┆ 10.75     ┆ 15.0       ┆ 25.75 ┆ 9     │\n",
       "│ 1/2 bushel cartons   ┆ 12.0      ┆ 12.0       ┆ 24.0  ┆ 9     │\n",
       "│ 1/2 bushel cartons   ┆ 12.0      ┆ 12.0       ┆ 24.0  ┆ 9     │\n",
       "└──────────────────────┴───────────┴────────────┴───────┴───────┘"
      ]
     },
     "execution_count": 10,
     "metadata": {},
     "output_type": "execute_result"
    }
   ],
   "source": [
    "pumpkins = pumpkins.with_columns([\n",
    "    pl.when(pl.col(\"Package\").str.contains(\"1 1/9\", strict=True))\n",
    "    .then(pl.col(\"Price\") / (1 + 1/9))\n",
    "    .when(pl.col(\"Package\").str.contains(\"1/2\", strict=True))\n",
    "    .then(pl.col(\"Price\") / (1/2))\n",
    "    .otherwise(pl.col(\"Price\")\n",
    "    .alias(\"b\")\n",
    "    )]\n",
    "  )\n",
    "\n",
    "pumpkins\n"
   ]
  },
  {
   "attachments": {},
   "cell_type": "markdown",
   "metadata": {},
   "source": [
    "## Visualize the Data Set"
   ]
  },
  {
   "attachments": {},
   "cell_type": "markdown",
   "metadata": {},
   "source": [
    "### Scatter Plot"
   ]
  },
  {
   "cell_type": "code",
   "execution_count": 11,
   "metadata": {},
   "outputs": [
    {
     "data": {
      "image/png": "[encoded data removed]",
      "text/plain": [
       "<Figure size 640x480 with 1 Axes>"
      ]
     },
     "metadata": {},
     "output_type": "display_data"
    }
   ],
   "source": [
    "price = pumpkins[\"Price\"]\n",
    "month = pumpkins[\"Month\"]\n",
    "\n",
    "plt.scatter(price, month)\n",
    "plt.xlabel(\"Price\"); plt.ylabel(\"Month\")\n",
    "plt.show()"
   ]
  },
  {
   "attachments": {},
   "cell_type": "markdown",
   "metadata": {},
   "source": [
    "### Bar Plot"
   ]
  },
  {
   "cell_type": "code",
   "execution_count": 12,
   "metadata": {},
   "outputs": [
    {
     "name": "stdout",
     "output_type": "stream",
     "text": [
      "shape: (5, 2)\n",
      "┌───────┬───────────┐\n",
      "│ Month ┆ Price     │\n",
      "│ ---   ┆ ---       │\n",
      "│ u32   ┆ f64       │\n",
      "╞═══════╪═══════════╡\n",
      "│ 11    ┆ 25.067213 │\n",
      "│ 8     ┆ 24.366667 │\n",
      "│ 10    ┆ 28.355244 │\n",
      "│ 12    ┆ 15.4125   │\n",
      "│ 9     ┆ 28.544384 │\n",
      "└───────┴───────────┘\n"
     ]
    },
    {
     "data": {
      "image/png": "[encoded data removed]",
      "text/plain": [
       "<Figure size 640x480 with 1 Axes>"
      ]
     },
     "metadata": {},
     "output_type": "display_data"
    }
   ],
   "source": [
    "p1 = pumpkins.groupby([\"Month\"]).agg(pl.col(\"Price\").mean())\n",
    "\n",
    "pp(p1)\n",
    "\n",
    "price = p1[\"Price\"]; month = p1[\"Month\"]\n",
    "\n",
    "plt.bar(month, price)\n",
    "plt.xlabel(\"Month\"); plt.ylabel(\"Pumpkin Price\")\n",
    "plt.show()"
   ]
  }
 ],
 "metadata": {
  "kernelspec": {
   "display_name": "microsoft-machine-learning-beginners",
   "language": "python",
   "name": "python3"
  },
  "language_info": {
   "codemirror_mode": {
    "name": "ipython",
    "version": 3
   },
   "file_extension": ".py",
   "mimetype": "text/x-python",
   "name": "python",
   "nbconvert_exporter": "python",
   "pygments_lexer": "ipython3",
   "version": "3.11.2"
  },
  "orig_nbformat": 4
 },
 "nbformat": 4,
 "nbformat_minor": 2
}
